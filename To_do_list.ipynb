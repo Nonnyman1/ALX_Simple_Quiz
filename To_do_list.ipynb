{
  "nbformat": 4,
  "nbformat_minor": 0,
  "metadata": {
    "colab": {
      "provenance": [],
      "authorship_tag": "ABX9TyNsw1eQVQtf2pY3fblxJOOQ",
      "include_colab_link": true
    },
    "kernelspec": {
      "name": "python3",
      "display_name": "Python 3"
    },
    "language_info": {
      "name": "python"
    }
  },
  "cells": [
    {
      "cell_type": "markdown",
      "metadata": {
        "id": "view-in-github",
        "colab_type": "text"
      },
      "source": [
        "<a href=\"https://colab.research.google.com/github/Nonnyman1/ALX_Simple_Quiz/blob/main/To_do_list.ipynb\" target=\"_parent\"><img src=\"https://colab.research.google.com/assets/colab-badge.svg\" alt=\"Open In Colab\"/></a>"
      ]
    },
    {
      "cell_type": "markdown",
      "source": [
        "# **A simple TO-DO list application using Python**\n",
        "## **Objective**:\n",
        " To create a simple to-do list application that allows users to add, delete, and mark tasks as completed.\n",
        "## **Requirements:**\n",
        " Features such as: adding tasks, marking tasks as completed / removing marked items from the list, and displaying tasks in a list format.\n",
        "## **Use case:**\n",
        "The intended use case for this code is to serve as a simple, educational tool for managing personal tasks through a command‑line interface. Here’s a breakdown:\n",
        "### **Who Is It For?**\n",
        "**• Beginners and Learners:** This code is designed primarily for people who are new to Python. It demonstrates fundamental programming concepts (loops, conditionals, list operations, and functions) in a real-world scenario.\n",
        "\n",
        "**• Individuals Needing a Simple Task Manager:** It can be used by anyone who wants a quick, text‑based method to add, view, mark as done, or remove tasks from their daily to‑do list.\n",
        "\n",
        "### **Context of Use:**\n",
        "**• Educational Projects:** It’s often used as a beginner project in coding courses or self‑learning environments.\n",
        "\n",
        "**• Command‑Line Environment:** The code runs in a terminal or console, where the user interacts via text input and output.\n",
        "\n",
        "**• Personal Productivity:** Beyond its educational value, it can act as a basic personal productivity tool, allowing users to manage tasks without the complexity of a full‑featured application.\n",
        "\n",
        "This simple to‑do list program is a stepping stone that helps new programmers understand core Python structures while providing a practical example that they can later extend—such as adding persistence (saving to a file or database) or even a graphical user interface."
      ],
      "metadata": {
        "id": "IFSOJT_VGsTN"
      }
    },
    {
      "cell_type": "code",
      "execution_count": null,
      "metadata": {
        "id": "1_vZNXj2HI8z"
      },
      "outputs": [],
      "source": [
        "def display_menu():\n",
        "  print(\"1. Add Task\")\n",
        "  print(\"2. View Tasks\")\n",
        "  print(\"3. Mark Tasks as done\")\n",
        "  print(\"4. Exit\")\n"
      ]
    },
    {
      "cell_type": "code",
      "source": [
        "tasks=[]"
      ],
      "metadata": {
        "id": "k_kOS9TaIH_6"
      },
      "execution_count": null,
      "outputs": []
    },
    {
      "cell_type": "code",
      "source": [
        "while True:\n",
        "  display_menu()\n",
        "  choice=input(\"Enter your choice: \")\n",
        "  if choice==\"1\":\n",
        "    task= input(\"Enter a task here: \")\n",
        "    tasks.append(task)\n",
        "    print(\"Task added successfully!\")\n",
        "\n",
        "  elif choice==2:\n",
        "    print(\"Tasks:\")\n",
        "    for index, task in enumerate(tasks,1):\n",
        "      print(f\"{index}. {task}\")\n",
        "\n",
        "  elif choice==3:\n",
        "    task_index=int(input(\"Enter the task number to be marked as done\")) -1\n",
        "    if task_index < len(tasks):\n",
        "      print(\"Task '{tasks[task_index]}' marked as done\")\n",
        "      del(tasks[task_index])\n",
        "    else:\n",
        "      print(\"Please enter valid task number\")\n",
        "\n",
        "  elif choice==4:\n",
        "    print(\"Exiting the program\")\n",
        "    break\n",
        "  else:\n",
        "    print(\"Invalid choice. Please try again.\")\n",
        "\n"
      ],
      "metadata": {
        "colab": {
          "base_uri": "https://localhost:8080/"
        },
        "id": "o2n5gOjhgwBY",
        "outputId": "3b84c63e-450c-40e7-c970-721f608fc8b4"
      },
      "execution_count": null,
      "outputs": [
        {
          "output_type": "stream",
          "name": "stdout",
          "text": [
            "1. Add Task\n",
            "2. View Tasks\n",
            "3. Mark Tasks as done\n",
            "4. Exit\n"
          ]
        }
      ]
    },
    {
      "cell_type": "code",
      "source": [],
      "metadata": {
        "id": "AZIpaxJ_lq_u"
      },
      "execution_count": null,
      "outputs": []
    }
  ]
}